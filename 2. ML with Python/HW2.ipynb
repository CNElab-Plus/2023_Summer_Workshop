{
 "cells": [
  {
   "cell_type": "markdown",
   "id": "c262bfaf",
   "metadata": {},
   "source": [
    "# Assignment 1: Linear Regression\n",
    "1. Download California Housing dataset.\n",
    "2. Split the dataset into training and testing sets.\n",
    "3. Train a linear regression model on the training set.\n",
    "4. Evaluate the model on the test set using Mean Squared Error (MSE) as a metric.\n",
    "5. Predict the price of a new house given its features"
   ]
  },
  {
   "cell_type": "code",
   "execution_count": 5,
   "id": "084f0f1e",
   "metadata": {},
   "outputs": [],
   "source": [
    "from sklearn.datasets import fetch_california_housing\n"
   ]
  },
  {
   "cell_type": "markdown",
   "id": "08dfe09d",
   "metadata": {},
   "source": [
    "# Assignment 2: Linear Discriminant Analysis (LDA)\n",
    "1. Download handwritten digit dataset.\n",
    "2. Split the data into training and testing sets.\n",
    "4. Apply LDA for feature extraction.\n",
    "5. Train a classifier on the transformed training data.\n",
    "6. Test the classifier on the transformed test data."
   ]
  },
  {
   "cell_type": "code",
   "execution_count": null,
   "id": "84e52db9",
   "metadata": {},
   "outputs": [],
   "source": []
  }
 ],
 "metadata": {
  "kernelspec": {
   "display_name": "Python 3 (ipykernel)",
   "language": "python",
   "name": "python3"
  },
  "language_info": {
   "codemirror_mode": {
    "name": "ipython",
    "version": 3
   },
   "file_extension": ".py",
   "mimetype": "text/x-python",
   "name": "python",
   "nbconvert_exporter": "python",
   "pygments_lexer": "ipython3",
   "version": "3.10.9"
  }
 },
 "nbformat": 4,
 "nbformat_minor": 5
}
