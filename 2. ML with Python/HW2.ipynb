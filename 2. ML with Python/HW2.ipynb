{
 "cells": [
  {
   "cell_type": "markdown",
   "source": [
    "# Assignment 1: Linear Regression\n",
    "1. Download California Housing dataset.\n",
    "2. Split the dataset into training and testing sets.\n",
    "3. Train a linear regression model on the training set.\n",
    "4. Evaluate the model on the test set using Mean Squared Error (MSE) as a metric.\n",
    "5. Predict the price of a new house given its features"
   ],
   "metadata": {}
  },
  {
   "cell_type": "code",
   "execution_count": 1,
   "source": [
    "from sklearn.datasets import fetch_california_housing\r\n"
   ],
   "outputs": [],
   "metadata": {}
  },
  {
   "cell_type": "markdown",
   "source": [
    "# Assignment 2: Linear Discriminant Analysis (LDA)\r\n",
    "1. Download handwritten digit dataset.\r\n",
    "2. Split the data into training and testing sets.\r\n",
    "4. Apply LDA for feature extraction.\r\n",
    "5. Train a classifier on the transformed training data.\r\n",
    "6. Test the classifier on the transformed test data."
   ],
   "metadata": {}
  },
  {
   "cell_type": "code",
   "execution_count": null,
   "source": [
    "from sklearn.datasets import load_digits"
   ],
   "outputs": [],
   "metadata": {}
  },
  {
   "cell_type": "markdown",
   "source": [
    "# Assignment 3:  Decision Tree\r\n",
    "1. Load the Iris dataset from sklearn.datasets.\r\n",
    "2. Split the data into training and testing sets.\r\n",
    "3. Train a decision tree classifier on the training data.\r\n",
    "4. Test the classifier on the test data.\r\n",
    "5. Visualize the decision tree."
   ],
   "metadata": {}
  },
  {
   "cell_type": "code",
   "execution_count": null,
   "source": [],
   "outputs": [],
   "metadata": {}
  },
  {
   "cell_type": "markdown",
   "source": [
    "# Assignment 4: Support Vector Machine (SVM)\r\n",
    "1. Load the digits dataset from sklearn.datasets.\r\n",
    "2. Split the data into training and testing sets.\r\n",
    "3. Train an SVM classifier on the training data.\r\n",
    "4. Test the classifier on the test data."
   ],
   "metadata": {}
  },
  {
   "cell_type": "code",
   "execution_count": null,
   "source": [],
   "outputs": [],
   "metadata": {}
  },
  {
   "cell_type": "markdown",
   "source": [
    "# Assignment 5: K-Nearest Neighbors (KNN)\r\n",
    "1. Load the Iris dataset from sklearn.datasets.\r\n",
    "2. Split the data into training and testing sets.\r\n",
    "3. Train a KNN classifier on the training data.\r\n",
    "4. Test the classifier on the test data."
   ],
   "metadata": {}
  },
  {
   "cell_type": "code",
   "execution_count": null,
   "source": [],
   "outputs": [],
   "metadata": {}
  },
  {
   "cell_type": "markdown",
   "source": [
    "# Assignment 6: Principal Component Analysis (PCA)\r\n",
    "1. Load the digits dataset from sklearn.datasets.\r\n",
    "2. Apply PCA to reduce the dimensionality of the images.\r\n",
    "3. Visualize the reduced data in a 2D scatter plot."
   ],
   "metadata": {}
  },
  {
   "cell_type": "code",
   "execution_count": null,
   "source": [],
   "outputs": [],
   "metadata": {}
  },
  {
   "cell_type": "markdown",
   "source": [
    "# Assignment 7: Common Spatial Patterns (CSP)\r\n",
    "1. Load the MNE EEG dataas template\r\n",
    "2. Apply band-pass filter\r\n",
    "3. Apply the CSP algorithm for feature extraction.\r\n",
    "4. Classification with linear discrimant analysis\r\n",
    "\r\n",
    "https://mne.tools/stable/auto_examples/decoding/decoding_csp_eeg.html"
   ],
   "metadata": {}
  },
  {
   "cell_type": "code",
   "execution_count": null,
   "source": [
    "import numpy as np\r\n",
    "import matplotlib.pyplot as plt\r\n",
    "\r\n",
    "from sklearn.pipeline import Pipeline\r\n",
    "from sklearn.discriminant_analysis import LinearDiscriminantAnalysis\r\n",
    "from sklearn.model_selection import ShuffleSplit, cross_val_score\r\n",
    "\r\n",
    "from mne import Epochs, pick_types, events_from_annotations\r\n",
    "from mne.channels import make_standard_montage\r\n",
    "from mne.io import concatenate_raws, read_raw_edf\r\n",
    "from mne.datasets import eegbci\r\n",
    "from mne.decoding import CSP\r\n",
    "subject = 1\r\n",
    "runs = [6, 10, 14]  # motor imagery: hands vs feet\r\n",
    "\r\n",
    "raw_fnames = eegbci.load_data(subject, runs)"
   ],
   "outputs": [],
   "metadata": {}
  }
 ],
 "metadata": {
  "kernelspec": {
   "name": "python3",
   "display_name": "Python 3.8.16 64-bit ('PR': conda)"
  },
  "language_info": {
   "codemirror_mode": {
    "name": "ipython",
    "version": 3
   },
   "file_extension": ".py",
   "mimetype": "text/x-python",
   "name": "python",
   "nbconvert_exporter": "python",
   "pygments_lexer": "ipython3",
   "version": "3.8.16"
  },
  "interpreter": {
   "hash": "984e2a8e1514507501a1fea343f2e475d4f6228165e0f6aee8ffcc8d07759179"
  }
 },
 "nbformat": 4,
 "nbformat_minor": 5
}